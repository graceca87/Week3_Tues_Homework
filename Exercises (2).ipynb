{
 "cells": [
  {
   "cell_type": "markdown",
   "metadata": {},
   "source": [
    "#### Exercise 1 - Class Inheritance"
   ]
  },
  {
   "cell_type": "markdown",
   "metadata": {},
   "source": [
    "Create an Employee class that sets an employee's first name, last name, job title, salary, and email. The Employee class should have a class attribute for the raise amount set to 5% (1.05). Create a method that will apply the raise to an employee's salary."
   ]
  },
  {
   "cell_type": "code",
   "execution_count": 23,
   "metadata": {},
   "outputs": [
    {
     "name": "stdout",
     "output_type": "stream",
     "text": [
      "Henry Winkler\n"
     ]
    }
   ],
   "source": [
    "class Employee():\n",
    "    \n",
    "    def __init__(self, first_name, last_name, salary, email):\n",
    "        self.first_name = first_name\n",
    "        self.last_name = last_name\n",
    "        self.salary = salary\n",
    "        self.email = email\n",
    "        self.full_name = f\"{self.first_name} {self.last_name}\"\n",
    "\n",
    "    def get_raise(self):\n",
    "        self.salary = int(self.salary) * 1.05"
   ]
  },
  {
   "cell_type": "markdown",
   "metadata": {},
   "source": [
    "Create two more classes that inherit from the Employee class. One for Sales and one for Development. Both of these classes will have the same attributes as the Employee.<br>\n",
    "- For the Sales employees, add a phone number attribute on instantiation using the super method. \n",
    "- Create a method on the Sales class that will Send a Follow Up Email. It should take in a customer name and \"send\" aka print a formatted email \"Dear *customer*, Thank you for your interest in our product. Please let me know if you have any questions. My email is *email* or my phone number is *phone number*. Thanks, *full name*\"\n",
    "- Create a method on the Development class called code that will print out \"*full name* is writing code\"."
   ]
  },
  {
   "cell_type": "code",
   "execution_count": 82,
   "metadata": {},
   "outputs": [
    {
     "name": "stdout",
     "output_type": "stream",
     "text": [
      "Dear ('Bob',), Thank you for your interest in our product. Please let me know if you have any questions. My email is hwinkler@gmail.com or my phone number is 555-555-5555. Thanks, Henry Winkler\n"
     ]
    }
   ],
   "source": [
    "\n",
    "\n",
    "class Sales(Employee):\n",
    "    \n",
    "    def __init__(self, first_name, last_name, salary, email, phone_number):\n",
    "        super().__init__(first_name, last_name, salary, email)\n",
    "        self.phone_number = phone_number\n",
    "        \n",
    "    def send_follow_up(self, *cust_name):\n",
    "        print(f\"Dear {cust_name}, Thank you for your interest in our product. Please let me know if you have any questions. My email is {self.email} or my phone number is {self.phone_number}. Thanks, {self.full_name}\")\n",
    "        \n",
    "    \n",
    "class Development(Employee):\n",
    "    \n",
    "    def __init__(self,first_name, last_name, salary, email):\n",
    "        super().__init__(first_name, last_name, salary, email)\n",
    "        \n",
    "    def code(self):\n",
    "        print(f\"{self.full_name} is writing code.\")\n",
    "        \n",
    "     \n",
    "Emp1 = Sales('Henry','Winkler', 100000, 'hwinkler@gmail.com','555-555-5555')\n",
    "Emp1.send_follow_up(\"Bob\")\n",
    "\n",
    "\n",
    "    "
   ]
  },
  {
   "cell_type": "markdown",
   "metadata": {},
   "source": [
    "- Create an instance of a Sales Employee with a salary of $50,000.\n",
    "- Send follow up emails to \"Mike O'Neil\" and \"Hannah Stern\"\n",
    "- Give the employee a raise and print the salary"
   ]
  },
  {
   "cell_type": "code",
   "execution_count": 92,
   "metadata": {},
   "outputs": [
    {
     "name": "stdout",
     "output_type": "stream",
     "text": [
      "-----------------\n",
      "Dear (\"Mike O'Neil\",), Thank you for your interest in our product. Please let me know if you have any questions. My email is rswanson@gmail.com or my phone number is 555-243-2454. Thanks, Ron Swanson\n",
      "-----------------\n",
      "Dear ('Hannah Stern',), Thank you for your interest in our product. Please let me know if you have any questions. My email is rswanson@gmail.com or my phone number is 555-243-2454. Thanks, Ron Swanson\n",
      "-----------------\n",
      "$52500.00\n"
     ]
    }
   ],
   "source": [
    "Emp2 = Sales('Ron', 'Swanson', 50000, 'rswanson@gmail.com', '555-243-2454') #Create an instance of a Sales Employee with a salary of $50,000.\n",
    "\n",
    "print(\"-----------------\")\n",
    "\n",
    "Emp2.send_follow_up(\"Mike O'Neil\") #Send follow up emails to \"Mike O'Neil\"\n",
    "\n",
    "print(\"-----------------\")\n",
    "\n",
    "Emp2.send_follow_up(\"Hannah Stern\") #Send follow up emails to \"Hannah Stern\"\n",
    "\n",
    "print(\"-----------------\")\n",
    "\n",
    "Emp2.get_raise()\n",
    "print(f\"${Emp2.salary}0\")\n"
   ]
  },
  {
   "cell_type": "markdown",
   "metadata": {},
   "source": [
    "- Create an instance of a Development Employee with a salary of $100,000\n",
    "- Write some code with this employee\n",
    "- Give the employee a raise and print the salary"
   ]
  },
  {
   "cell_type": "code",
   "execution_count": 95,
   "metadata": {},
   "outputs": [
    {
     "name": "stdout",
     "output_type": "stream",
     "text": [
      "Leslie Knope is writing code.\n",
      "$105000.00\n"
     ]
    }
   ],
   "source": [
    "Emp3 = Development('Leslie', 'Knope', 100000, 'lknope@gmail.com')\n",
    "Emp3.code()\n",
    "Emp3.get_raise()\n",
    "print(f\"${Emp3.salary}0\")"
   ]
  },
  {
   "cell_type": "markdown",
   "metadata": {},
   "source": [
    "#### Exercise 2 - Importing Modules"
   ]
  },
  {
   "cell_type": "markdown",
   "metadata": {},
   "source": [
    "In VS Code, create a module titled `geometry` and add two functions in there. One that will calculate the area of a circle given a radius. The second will find the hypotenuse of a right angle given the two sides. Import the module or the functions from the module and use it to find the answers to the below questions"
   ]
  },
  {
   "cell_type": "markdown",
   "metadata": {},
   "source": [
    "What is the area of a circle with a radius of 7cm?"
   ]
  },
  {
   "cell_type": "code",
   "execution_count": null,
   "metadata": {},
   "outputs": [],
   "source": []
  },
  {
   "cell_type": "markdown",
   "metadata": {},
   "source": [
    "What is the hypotenuse of a right angle with sides of 3in and 4in?"
   ]
  },
  {
   "cell_type": "code",
   "execution_count": null,
   "metadata": {},
   "outputs": [],
   "source": []
  }
 ],
 "metadata": {
  "kernelspec": {
   "display_name": "Python 3 (ipykernel)",
   "language": "python",
   "name": "python3"
  },
  "language_info": {
   "codemirror_mode": {
    "name": "ipython",
    "version": 3
   },
   "file_extension": ".py",
   "mimetype": "text/x-python",
   "name": "python",
   "nbconvert_exporter": "python",
   "pygments_lexer": "ipython3",
   "version": "3.9.12"
  },
  "vscode": {
   "interpreter": {
    "hash": "40d3a090f54c6569ab1632332b64b2c03c39dcf918b08424e98f38b5ae0af88f"
   }
  }
 },
 "nbformat": 4,
 "nbformat_minor": 4
}
